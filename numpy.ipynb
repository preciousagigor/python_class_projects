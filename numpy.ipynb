{
 "cells": [
  {
   "cell_type": "code",
   "execution_count": 5,
   "id": "84554a3f-610c-4be3-a4ba-2ed385be3cea",
   "metadata": {},
   "outputs": [],
   "source": [
    "import numpy as np"
   ]
  },
  {
   "cell_type": "code",
   "execution_count": 6,
   "id": "2a560320-70eb-4ab6-a22c-8a4898352c9a",
   "metadata": {},
   "outputs": [],
   "source": [
    "def square_num(values):\n",
    "    x = [ ]\n",
    "    for value in values:\n",
    "        x.append(value**2)\n",
    "        return x"
   ]
  },
  {
   "cell_type": "code",
   "execution_count": 10,
   "id": "3d77816c-631e-471f-ab0b-acbe3d6db776",
   "metadata": {},
   "outputs": [],
   "source": [
    "num = np.random.randint(0, 50, 100)"
   ]
  },
  {
   "cell_type": "code",
   "execution_count": 11,
   "id": "16712cd8-6207-4189-bdec-ccae9f16cf6b",
   "metadata": {},
   "outputs": [
    {
     "name": "stdout",
     "output_type": "stream",
     "text": [
      "[33 26 46  5 21 35 36 28  6 46  2 43 35  8 26 24 14 19 18 42  5 47 41  7\n",
      " 33 31 28 30  8 39 30  2 14  0 34 45 12 42 18  2 26 18 43  4 43 28 41 35\n",
      " 24  4 24 43 12 36  4 20 42 39  2 11  1 27  8 17  9 18 38 28 16 11 39 28\n",
      " 48 47 45 10 14  6 11 40 17 32 45  4  8 22  3 12 42 20 15 34 30 15 33 19\n",
      "  7 40 14 44]\n"
     ]
    }
   ],
   "source": [
    "print(num) "
   ]
  },
  {
   "cell_type": "code",
   "execution_count": 18,
   "id": "69746ec4-5040-43f7-9b6f-8b152732296a",
   "metadata": {},
   "outputs": [
    {
     "data": {
      "text/plain": [
       "np.int32(48)"
      ]
     },
     "execution_count": 18,
     "metadata": {},
     "output_type": "execute_result"
    }
   ],
   "source": [
    "max_num = np.max(num)\n",
    "max_num"
   ]
  },
  {
   "cell_type": "code",
   "execution_count": 20,
   "id": "df5458e0-71f3-4883-8a89-3925b8438381",
   "metadata": {},
   "outputs": [
    {
     "data": {
      "text/plain": [
       "np.int32(0)"
      ]
     },
     "execution_count": 20,
     "metadata": {},
     "output_type": "execute_result"
    }
   ],
   "source": [
    "min_num = np.min(num)\n",
    "min_num"
   ]
  },
  {
   "cell_type": "code",
   "execution_count": 21,
   "id": "6db5dc0f-e672-45eb-8382-a4a407f2cfe5",
   "metadata": {},
   "outputs": [
    {
     "data": {
      "text/plain": [
       "np.float64(23.97)"
      ]
     },
     "execution_count": 21,
     "metadata": {},
     "output_type": "execute_result"
    }
   ],
   "source": [
    "mean_num = np.mean(num)\n",
    "mean_num"
   ]
  },
  {
   "cell_type": "code",
   "execution_count": 24,
   "id": "70464f41-9206-4b36-a93c-5a6a5ecdd911",
   "metadata": {},
   "outputs": [
    {
     "data": {
      "text/plain": [
       "array([], dtype=int32)"
      ]
     },
     "execution_count": 24,
     "metadata": {},
     "output_type": "execute_result"
    }
   ],
   "source": [
    "grt50 = num[num > 50]\n",
    "grt50"
   ]
  },
  {
   "cell_type": "code",
   "execution_count": 25,
   "id": "5153262b-1cc4-4eb1-a552-e5c8e9640def",
   "metadata": {},
   "outputs": [
    {
     "data": {
      "text/plain": [
       "0"
      ]
     },
     "execution_count": 25,
     "metadata": {},
     "output_type": "execute_result"
    }
   ],
   "source": [
    "len(grt50)"
   ]
  },
  {
   "cell_type": "code",
   "execution_count": null,
   "id": "53bcba51-d7fb-4281-937c-dab01295d7c9",
   "metadata": {},
   "outputs": [],
   "source": []
  }
 ],
 "metadata": {
  "kernelspec": {
   "display_name": "Python 3 (ipykernel)",
   "language": "python",
   "name": "python3"
  },
  "language_info": {
   "codemirror_mode": {
    "name": "ipython",
    "version": 3
   },
   "file_extension": ".py",
   "mimetype": "text/x-python",
   "name": "python",
   "nbconvert_exporter": "python",
   "pygments_lexer": "ipython3",
   "version": "3.12.4"
  }
 },
 "nbformat": 4,
 "nbformat_minor": 5
}
